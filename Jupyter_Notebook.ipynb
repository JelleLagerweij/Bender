{
 "cells": [
  {
   "cell_type": "markdown",
   "id": "9899ba14-414a-4cf2-9b03-35e80c648e84",
   "metadata": {
    "tags": []
   },
   "source": [
    "## Second level heading\n",
    "\n",
    "This cell contains simple\n",
    "[markdown](https://daringfireball.net/projects/markdown/syntax), a simple language for writing text that can be automatically converted to other formats, e.g. HTML, LaTeX or any of a number of others.\n",
    "\n",
    "**Bold**, *italics*, **_combined_**, ~~strikethrough~~, `inline code`.\n",
    "\n",
    "* bullet points\n",
    "\n",
    "or\n",
    "\n",
    "1. numbered\n",
    "3. lists\n",
    "\n",
    "**Equations:**\n",
    "inline $e^{i\\pi} + 1 = 0$\n",
    "or on new line\n",
    "$$e^{i\\pi} + 1 = 0$$\n",
    "\n",
    "Images:\n",
    "\n",
    "![Jupyter logo](https://jupyter.org/assets/homepage/main-logo.svg)\n",
    "\n",
    "Links:\n",
    "[One of many markdown cheat-sheets](https://github.com/adam-p/markdown-here/wiki/Markdown-Cheatsheet#emphasis)"
   ]
  },
  {
   "cell_type": "markdown",
   "id": "cdd9f2b8-2ef7-4dd0-bcd9-ee8946d9e41d",
   "metadata": {},
   "source": [
    "## Relevant formulas\n",
    "\n",
    "- square area: $s = (2 r)^2$\n",
    "- circle area: $c = \\pi r^2$\n",
    "- $c/s = (\\pi r^2) / (4 r^2) = \\pi / 4$\n",
    "- $\\pi = 4 * c/s$"
   ]
  },
  {
   "cell_type": "markdown",
   "id": "0e77fcc1",
   "metadata": {},
   "source": [
    "## Image to visualize the concept\n",
    "\n",
    "![Darts](https://raw.githubusercontent.com/coderefinery/jupyter/main/example/darts.svg)"
   ]
  },
  {
   "cell_type": "code",
   "execution_count": 1,
   "id": "55705229",
   "metadata": {},
   "outputs": [],
   "source": [
    "# importing modules that we will need\n",
    "\n",
    "import random\n",
    "import matplotlib.pyplot as plt\n",
    "import numpy as np"
   ]
  },
  {
   "cell_type": "code",
   "execution_count": 2,
   "id": "41a38713",
   "metadata": {},
   "outputs": [],
   "source": [
    "# initializing the number of \"throws\"\n",
    "def montecarlo(n_points):\n",
    "    hits = 0\n",
    "    data = np.zeros((n_points, 3), dtype=object)\n",
    "    data[:, 2] = 'blue'\n",
    "\n",
    "    for i in range(n_points):\n",
    "        # Draw a random location\n",
    "        data[i, 0], data[i, 1] = random.random(), random.random()\n",
    "\n",
    "        # Check if location is within circle\n",
    "        if data[i, 0]*data[i, 0] + data[i, 1]*data[i, 1] < 1.0:\n",
    "            hits += 1\n",
    "            data[i, 2] = 'red'\n",
    "    pi = 4*hits/n_points\n",
    "    return data, pi"
   ]
  },
  {
   "cell_type": "code",
   "execution_count": 3,
   "id": "9be5a91d",
   "metadata": {},
   "outputs": [],
   "source": [
    "# This algorithm provides an error estimate for faster performance,\n",
    "# it is possible to run the loop over j parallel.\n",
    "def montecarlo_better(n_points, n_times):\n",
    "    pi = np.zeros(n_times)\n",
    "    for j in range(n_times):\n",
    "        hits = 0\n",
    "\n",
    "        for i in range(n_points):\n",
    "            # Draw a random location\n",
    "            x, y = random.random(), random.random()\n",
    "\n",
    "            # Check if location is within circle\n",
    "            if x*x + y*y < 1.0:\n",
    "                hits += 1\n",
    "        pi[j] = 4*hits/n_points\n",
    "    pi_m = np.mean(pi)\n",
    "    pi_e = np.std(pi)/np.sqrt(n_times)\n",
    "    return pi_m, pi_e"
   ]
  },
  {
   "cell_type": "code",
   "execution_count": 4,
   "id": "c0f5a647",
   "metadata": {},
   "outputs": [
    {
     "name": "stdout",
     "output_type": "stream",
     "text": [
      "3.141708\n",
      "3.1408168 +/- 0.0007915549456608003\n"
     ]
    }
   ],
   "source": [
    "# Execute this function\n",
    "num_points = 1000000\n",
    "data, pi = montecarlo(num_points)\n",
    "print(pi)\n",
    "\n",
    "# Execute this function\n",
    "pi, error = montecarlo_better(num_points, 5)\n",
    "print(pi, '+/-', error)"
   ]
  },
  {
   "cell_type": "code",
   "execution_count": 5,
   "id": "feef080d",
   "metadata": {},
   "outputs": [
    {
     "data": {
      "text/plain": [
       "<matplotlib.collections.PathCollection at 0x222af74a650>"
      ]
     },
     "execution_count": 5,
     "metadata": {},
     "output_type": "execute_result"
    },
    {
     "data": {
      "image/png": "[encoded data removed]",
      "text/plain": [
       "<Figure size 600x600 with 1 Axes>"
      ]
     },
     "metadata": {},
     "output_type": "display_data"
    }
   ],
   "source": [
    "# define figure dimensions\n",
    "fig, ax = plt.subplots()\n",
    "fig.set_size_inches(6.0, 6.0)\n",
    "\n",
    "# plot results\n",
    "ax.scatter(data[:, 0], data[:, 1], c=data[:, 2])"
   ]
  }
 ],
 "metadata": {
  "kernelspec": {
   "display_name": "Python 3 (ipykernel)",
   "language": "python",
   "name": "python3"
  },
  "language_info": {
   "codemirror_mode": {
    "name": "ipython",
    "version": 3
   },
   "file_extension": ".py",
   "mimetype": "text/x-python",
   "name": "python",
   "nbconvert_exporter": "python",
   "pygments_lexer": "ipython3",
   "version": "3.11.5"
  }
 },
 "nbformat": 4,
 "nbformat_minor": 5
}
